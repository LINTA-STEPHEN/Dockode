{
 "cells": [
  {
   "attachments": {
    "image.png": {
     "image/png": ""
    }
   },
   "cell_type": "markdown",
   "id": "dcb33f4d",
   "metadata": {},
   "source": [
    "### Problem statement:\n",
    "Write a program to print the design attached.\n",
    "![image.png](attachment:image.png)\n",
    "\n",
    "\n",
    "Here we can have 2 inputs: the number of rows and the number of columns.\n",
    "The first sample given is for rows value as 4 and the column as 7.\n",
    "In the second sample, it's 3 and 5 respectively."
   ]
  },
  {
   "cell_type": "code",
   "execution_count": 5,
   "id": "d6e7166c",
   "metadata": {},
   "outputs": [
    {
     "name": "stdout",
     "output_type": "stream",
     "text": [
      "Enter the number of rows: 4\n",
      "Enter the number of columns: 7\n",
      "  __   __   __   __   __   __   __ \n",
      " /  \\ /  \\ /  \\ /  \\ /  \\ /  \\ /  \\\n",
      "/    \\/    \\/    \\/    \\/    \\/    \\/    \\\n",
      "\\    /\\    /\\    /\\    /\\    /\\    /\\    /\n",
      " \\__/ \\__/ \\__/ \\__/ \\__/ \\__/ \\__/\n",
      "     __   __   __   __   __   __   __ \n",
      "    /  \\ /  \\ /  \\ /  \\ /  \\ /  \\ /  \\\n",
      "   /    \\/    \\/    \\/    \\/    \\/    \\/    \\\n",
      "   \\    /\\    /\\    /\\    /\\    /\\    /\\    /\n",
      "    \\__/ \\__/ \\__/ \\__/ \\__/ \\__/ \\__/\n",
      "  __   __   __   __   __   __   __ \n",
      " /  \\ /  \\ /  \\ /  \\ /  \\ /  \\ /  \\\n",
      "/    \\/    \\/    \\/    \\/    \\/    \\/    \\\n",
      "\\    /\\    /\\    /\\    /\\    /\\    /\\    /\n",
      " \\__/ \\__/ \\__/ \\__/ \\__/ \\__/ \\__/\n",
      "     __   __   __   __   __   __   __ \n",
      "    /  \\ /  \\ /  \\ /  \\ /  \\ /  \\ /  \\\n",
      "   /    \\/    \\/    \\/    \\/    \\/    \\/    \\\n",
      "   \\    /\\    /\\    /\\    /\\    /\\    /\\    /\n",
      "    \\__/ \\__/ \\__/ \\__/ \\__/ \\__/ \\__/\n"
     ]
    }
   ],
   "source": [
    "def print_hexagon_pattern(rows, cols):\n",
    "    hex_top = \"  __ \"\n",
    "    hex_upper_middle = \" /  \\\\\"\n",
    "    hex_middle = \"/    \\\\\"\n",
    "    hex_lower_middle = \"\\\\    /\"\n",
    "    hex_bottom = \" \\\\__/\"\n",
    "\n",
    "    for r in range(rows):\n",
    "        if r % 2 == 1:\n",
    "            print(\" \" * 3, end=\"\")\n",
    "        for c in range(cols):\n",
    "            print(hex_top, end=\"\")\n",
    "        print()\n",
    "        \n",
    "        if r % 2 == 1:\n",
    "            print(\" \" * 3, end=\"\")\n",
    "        for c in range(cols):\n",
    "            print(hex_upper_middle, end=\"\")\n",
    "        print()\n",
    "        \n",
    "        if r % 2 == 1:\n",
    "            print(\" \" * 3, end=\"\")\n",
    "        for c in range(cols):\n",
    "            print(hex_middle, end=\"\")\n",
    "        print()\n",
    "        \n",
    "        if r % 2 == 1:\n",
    "            print(\" \" * 3, end=\"\")\n",
    "        for c in range(cols):\n",
    "            print(hex_lower_middle, end=\"\")\n",
    "        print()\n",
    "        \n",
    "        if r % 2 == 1:\n",
    "            print(\" \" * 3, end=\"\")\n",
    "        for c in range(cols):\n",
    "            print(hex_bottom, end=\"\")\n",
    "        print()\n",
    "\n",
    "#Get user's input \n",
    "rows = int(input(\"Enter the number of rows: \"))\n",
    "cols = int(input(\"Enter the number of columns: \"))\n",
    "\n",
    "#Print the pattern\n",
    "print_hexagon_pattern(rows, cols)\n"
   ]
  },
  {
   "cell_type": "code",
   "execution_count": 6,
   "id": "a1a221ea",
   "metadata": {},
   "outputs": [
    {
     "name": "stdout",
     "output_type": "stream",
     "text": [
      "Enter the number of rows: 3\n",
      "Enter the number of columns: 5\n",
      "  __   __   __   __   __ \n",
      " /  \\ /  \\ /  \\ /  \\ /  \\\n",
      "/    \\/    \\/    \\/    \\/    \\\n",
      "\\    /\\    /\\    /\\    /\\    /\n",
      " \\__/ \\__/ \\__/ \\__/ \\__/\n",
      "     __   __   __   __   __ \n",
      "    /  \\ /  \\ /  \\ /  \\ /  \\\n",
      "   /    \\/    \\/    \\/    \\/    \\\n",
      "   \\    /\\    /\\    /\\    /\\    /\n",
      "    \\__/ \\__/ \\__/ \\__/ \\__/\n",
      "  __   __   __   __   __ \n",
      " /  \\ /  \\ /  \\ /  \\ /  \\\n",
      "/    \\/    \\/    \\/    \\/    \\\n",
      "\\    /\\    /\\    /\\    /\\    /\n",
      " \\__/ \\__/ \\__/ \\__/ \\__/\n"
     ]
    }
   ],
   "source": [
    "#Get user's input \n",
    "rows = int(input(\"Enter the number of rows: \"))\n",
    "cols = int(input(\"Enter the number of columns: \"))\n",
    "\n",
    "#Print the pattern\n",
    "print_hexagon_pattern(rows, cols)"
   ]
  },
  {
   "cell_type": "code",
   "execution_count": null,
   "id": "caf561cb",
   "metadata": {},
   "outputs": [],
   "source": []
  }
 ],
 "metadata": {
  "kernelspec": {
   "display_name": "Python 3 (ipykernel)",
   "language": "python",
   "name": "python3"
  },
  "language_info": {
   "codemirror_mode": {
    "name": "ipython",
    "version": 3
   },
   "file_extension": ".py",
   "mimetype": "text/x-python",
   "name": "python",
   "nbconvert_exporter": "python",
   "pygments_lexer": "ipython3",
   "version": "3.9.19"
  }
 },
 "nbformat": 4,
 "nbformat_minor": 5
}
